{
 "cells": [
  {
   "cell_type": "code",
   "execution_count": 2,
   "metadata": {},
   "outputs": [
    {
     "name": "stdout",
     "output_type": "stream",
     "text": [
      "El resultado de la expresión en notación polaca '3 4 + 5 6 - /' es -7.0\n"
     ]
    }
   ],
   "source": [
    "class Notacion_Polaca:\n",
    "    def __init__(self):\n",
    "        self.stack = []\n",
    "\n",
    "    def evaluar_expresion(self, expresion):\n",
    "        tokens = expresion.split()\n",
    "\n",
    "        for token in tokens:\n",
    "            if token.isdigit():\n",
    "                self.stack.append(int(token))\n",
    "            elif token in \"+-*/\":\n",
    "                if len(self.stack) < 2:\n",
    "                    raise ValueError(\"Expresión inválida\")\n",
    "                operando2 = self.stack.pop()\n",
    "                operando1 = self.stack.pop()\n",
    "                if token == '+':\n",
    "                    self.stack.append(operando1 + operando2)\n",
    "                elif token == '-':\n",
    "                    self.stack.append(operando1 - operando2)\n",
    "                elif token == '*':\n",
    "                    self.stack.append(operando1 * operando2)\n",
    "                elif token == '/':\n",
    "                    self.stack.append(operando1 / operando2)\n",
    "            else:\n",
    "                raise ValueError(\"Token no válido en la expresión\")\n",
    "\n",
    "        if len(self.stack) != 1:\n",
    "            raise ValueError(\"Expresión inválida\")\n",
    "\n",
    "        return self.stack[0]\n",
    "\n",
    "\n",
    "if __name__ == '__main__':\n",
    "    calculadora = Notacion_Polaca()\n",
    "    expresion = \"3 4 + 5 6 - /\"\n",
    "    resultado = calculadora.evaluar_expresion(expresion)\n",
    "    print(f\"El resultado de la expresión en notación polaca '{expresion}' es {resultado}\")\n",
    "\n"
   ]
  },
  {
   "cell_type": "code",
   "execution_count": null,
   "metadata": {},
   "outputs": [],
   "source": []
  }
 ],
 "metadata": {
  "kernelspec": {
   "display_name": "Python 3",
   "language": "python",
   "name": "python3"
  },
  "language_info": {
   "codemirror_mode": {
    "name": "ipython",
    "version": 3
   },
   "file_extension": ".py",
   "mimetype": "text/x-python",
   "name": "python",
   "nbconvert_exporter": "python",
   "pygments_lexer": "ipython3",
   "version": "3.11.4"
  }
 },
 "nbformat": 4,
 "nbformat_minor": 2
}
